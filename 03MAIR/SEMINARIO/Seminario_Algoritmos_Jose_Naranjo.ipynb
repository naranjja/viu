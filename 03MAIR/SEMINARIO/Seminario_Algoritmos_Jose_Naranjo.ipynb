{
 "cells": [
  {
   "cell_type": "markdown",
   "metadata": {
    "id": "hVbXYX-RfPWh"
   },
   "source": [
    "# Algoritmos de optimización - Seminario<br>\n",
    "Nombre y Apellidos: Jose Naranjo  <br>\n",
    "Url: https://github.com/.../03MAIR---Algoritmos-de-Optimizacion---2019/tree/master/SEMINARIO<br>\n",
    "Problema:\n",
    "> 1. Sesiones de doblaje <br>\n",
    "\n",
    "Descripción del problema:(copiar enunciado)\n",
    "\n",
    "Se precisa coordinar el doblaje de una película. Los actores del doblaje deben coincidir en las\n",
    "tomas en las que sus personajes aparecen juntos en las diferentes tomas. Los actores de\n",
    "doblaje cobran toda la misma cantidad por cada día que deben desplazarse hasta el estudio de\n",
    "grabación independientemente del número de tomas que se graben. No es posible grabar más\n",
    "de 6 tomas por día. El objetivo es planificar las sesiones por día de manera que el gasto por los\n",
    "servicios de los actores de doblaje sea el menor posible. Los datos son:\n",
    "\n",
    "Número de actores: 10\n",
    "Número de tomas : 30\n",
    "Actores/Tomas : https://bit.ly/36D8IuK\n",
    "- 1 indica que el actor participa en la toma\n",
    "- 0 en caso contrario\n",
    "\n",
    "(*) La respuesta es obligatoria\n",
    "\n",
    "\n",
    "\n",
    "\n",
    "\n",
    "                                        "
   ]
  },
  {
   "cell_type": "markdown",
   "metadata": {
    "id": "3_-exlrTgLd-"
   },
   "source": [
    "(*)¿Cuantas posibilidades hay sin tener en cuenta las restricciones?<br>\n",
    "¿Cuantas posibilidades hay teniendo en cuenta todas las restricciones?<br>"
   ]
  },
  {
   "cell_type": "markdown",
   "metadata": {
    "id": "WfCUqJyKhPcw"
   },
   "source": [
    "Respuesta"
   ]
  },
  {
   "cell_type": "markdown",
   "metadata": {
    "id": "iq6Fe32MgpDX"
   },
   "source": [
    "Si no tomamos en cuenta las restricciones, cada toma podría asignarse a cualquier día. Esto teóricamente nos permite un número infinito de posibilidades, a menos que definamos un número máximo de días. Si creamos una restricción con respecto al número de días, entonces la cantidad de posibilidades estará limitada al número de días.\n",
    "\n",
    "Si consideramos restricciones, sabemos que tendremos menos posibilidades que si no consideramos restricciones. Como los actores participan en distintas tomas, tenemos que analizar la matriz para determinar qué tomas pueden agruparse en un mismo día para no violar las restricciones. Resolver esto implica realizar una optimización que minimice el número total de días, y así hallar el conjunto de asignaciones de tomas a días."
   ]
  },
  {
   "cell_type": "markdown",
   "metadata": {
    "id": "dzynfVJahHoY"
   },
   "source": [
    "Modelo para el espacio de soluciones<br>\n",
    "(*) ¿Cual es la estructura de datos que mejor se adapta al problema? Argumentalo.(Es posible que hayas elegido una al principio y veas la necesidad de cambiar, arguentalo)\n"
   ]
  },
  {
   "cell_type": "markdown",
   "metadata": {
    "id": "xFIJrOwKi2Ti"
   },
   "source": [
    "Respuesta"
   ]
  },
  {
   "cell_type": "markdown",
   "metadata": {
    "id": "38c-7-ejhJmA"
   },
   "source": [
    "Para desarrollar el reto se nos proporcionó una matriz de adyacencia entre tomas y actores (30x10) donde 1 representa que el actor participa en la toma y 0 que no. Esta es la estructura inicial que se adapta intuitivamente al problema. Sin embargo, investigué que también puede ser útil usar una representación por grafos. Durante el desarrollo de los algoritmos podré evaluar si es que tiene más sentido una estructura versus otra."
   ]
  },
  {
   "cell_type": "markdown",
   "metadata": {
    "id": "7Z9U2W7bi-XS"
   },
   "source": [
    "Según el modelo para el espacio de soluciones<br>\n",
    "(*)¿Cual es la función objetivo?\n",
    "\n",
    "(*)¿Es un problema de maximización o minimización?"
   ]
  },
  {
   "cell_type": "markdown",
   "metadata": {
    "id": "hBalWLM7j1_d"
   },
   "source": [
    "Respuesta"
   ]
  },
  {
   "cell_type": "markdown",
   "metadata": {
    "id": "pDA-rg3Gj5Lz"
   },
   "source": [
    "La función objetivo es minimizar el costo total asociado a la contratación de los actores. Como los actores cobran una cantidad fija por día, independientemente del número de tomas que realicen en el día, el objetivo se puede representar como minimizar el número de días necesarios para completar todas las tomas.\n",
    "\n",
    "Se puede expresar como: Minimizar F(x) = número de días\n",
    "\n",
    "Donde x representa una asignación de tomas a días que cumpla con las restricciones:\n",
    "- Cada actor debe estar presente en todas las tomas de su personaje\n",
    "- No se pueden grabar más de 6 tomas al día\n",
    "\n",
    "Es un problema de minimización, donde se busca reducir el número de días, lo cual a su vez minimiza el costo de los actores (que cobran por día)."
   ]
  },
  {
   "cell_type": "markdown",
   "metadata": {
    "id": "rlnTYgY1j6I2"
   },
   "source": [
    "Diseña un algoritmo para resolver el problema por fuerza bruta"
   ]
  },
  {
   "cell_type": "markdown",
   "metadata": {
    "id": "70rDgxYXkC8r"
   },
   "source": [
    "Respuesta"
   ]
  },
  {
   "cell_type": "code",
   "execution_count": null,
   "metadata": {},
   "outputs": [],
   "source": [
    "import pandas as pd\n",
    "from itertools import combinations, chain, product\n",
    "\n",
    "df = pd.read_csv(\"matriz.csv\")\n",
    "df.set_index('Toma', inplace=True)\n",
    "matriz = df.to_numpy()\n",
    "\n",
    "max_tomas_por_dia = 6\n",
    "total_tomas = len(matriz)\n",
    "tomas = set(range(1, total_tomas + 1))\n",
    "\n",
    "def verificar_restriccion(combinacion):\n",
    "    for i in range(len(combinacion)):\n",
    "        for j in range(i+1, len(combinacion)):\n",
    "            # si 2 tomas comparten un actor, no es valido\n",
    "            if any(matriz[combinacion[i]-1][k] and matriz[combinacion[j]-1][k] for k in range(len(matriz[0]))):\n",
    "                return False\n",
    "    return True\n",
    "\n",
    "def fuerza_bruta():\n",
    "    tomas = range(1, total_tomas + 1)\n",
    "    combinaciones_validas = []\n",
    "\n",
    "    # genera todas las combinaciones posibles que cumplan la restriccion\n",
    "    for r in range(1, max_tomas_por_dia + 1):\n",
    "        for combinacion in combinations(tomas, r):\n",
    "            if verificar_restriccion(combinacion):\n",
    "                combinaciones_validas.append(combinacion)\n",
    "    \n",
    "    return combinaciones_validas\n",
    "\n",
    "def encontrar_todas_los_dias(combinaciones_validas):\n",
    "    # encuentra todas las formas posibles de cubrir todas las tomas\n",
    "    # con las combinaciones validas\n",
    "    for numero_dias in range(1, len(combinaciones_validas) + 1):\n",
    "        for dias in combinations(combinaciones_validas, numero_dias):\n",
    "            todas_las_tomas = set(chain.from_iterable(dias))\n",
    "            if todas_las_tomas == tomas:\n",
    "                yield dias\n",
    "\n",
    "def minimizar(combinaciones_validas):\n",
    "    solucion_optima = None\n",
    "    numero_minimo_dias = float('inf') # iniciamos con infinito\n",
    "    \n",
    "    for posible_solucion in encontrar_todas_los_dias(combinaciones_validas):\n",
    "        if len(posible_solucion) < numero_minimo_dias:\n",
    "            solucion_optima = posible_solucion\n",
    "            numero_minimo_dias = len(posible_solucion)\n",
    "    \n",
    "    return solucion_optima\n",
    "\n",
    "combinaciones_validas = fuerza_bruta()\n",
    "solucion = minimizar(combinaciones_validas)\n",
    "print(solucion)"
   ]
  },
  {
   "cell_type": "markdown",
   "metadata": {
    "id": "tgrnsC2nkFa8"
   },
   "source": [
    "Calcula la complejidad del algoritmo por fuerza bruta"
   ]
  },
  {
   "cell_type": "markdown",
   "metadata": {
    "id": "9eUd3xwckP68"
   },
   "source": [
    "Respuesta"
   ]
  },
  {
   "cell_type": "markdown",
   "metadata": {
    "id": "rvZWwL-ckRST"
   },
   "source": [
    "El algoritmo se hace en 2 etapas. En la primera, generamos todas las combinaciones válidas por día, respetando la restricción de que no más de 6 tomas pueden ser asignadas a un día y que las tomas que involucran a los mismos actores no pueden ser el mismo día.\n",
    "\n",
    "Luego encontramos todas las posibles formas de agrupar estas combinaciones para cubrir todas las tomas con el menor número de días, así reduciendo el costo. Esto se hace seleccionando las combinaciones válidas que juntas cubren el conjunto total de tomas. Este segundo paso es computacionalmente muy complejo, dado que necesitamos considerar todas las sub-combinaciones posibles de las combinaciones válidas. Esto escala exponencialmente con el número de combinaciones.\n",
    "\n",
    "Entonces la complejidad es 2^C donde C es el número de combinaciones válidas. Lo cual hace que sea un interesante ejercicio teórico pero no práctico en la vida real. De hecho, no pude terminar de ejecutar el algoritmo sin que mi procesador se rinda."
   ]
  },
  {
   "cell_type": "markdown",
   "metadata": {
    "id": "txbrmLmskReM"
   },
   "source": [
    "(*)Diseña un algoritmo que mejore la complejidad del algortimo por fuerza bruta. Argumenta porque crees que mejora el algoritmo por fuerza bruta"
   ]
  },
  {
   "cell_type": "markdown",
   "metadata": {
    "id": "hLrVwt5QkZPD"
   },
   "source": [
    "Respuesta"
   ]
  },
  {
   "cell_type": "code",
   "execution_count": 28,
   "metadata": {},
   "outputs": [
    {
     "name": "stdout",
     "output_type": "stream",
     "text": [
      "Mejor solución encontrada: [7, 16, 6, 10, 7, 7, 3, 7, 7, 16, 7, 1, 7, 7, 16, 14, 7, 7, 7, 7, 8, 7, 7, 16, 18, 12, 7, 7, 16, 7]\n",
      "Fitness: 126\n",
      "Días: 30\n"
     ]
    }
   ],
   "source": [
    "# Un algoritmo que mejora la complejidad del algoritmo por fuerza bruta puede ser un algoritmo genético.\n",
    "# Este es un algoritmo metaheurístico que por definición nos puede llevar a una solución razonable con\n",
    "# bajos recursos, que es el caso que estamos buscando realizar aquí. Adicionalmente, consideré también\n",
    "# algoritmos voraces, de programación entera (aunque no tengo disponible el software para hacerlo)\n",
    "# y búsqueda local. Me parece que algoritmos genéticos tienen una implementación interesante que me gustaría\n",
    "# seguir aprendiendo y por eso lo elegí.\n",
    "\n",
    "# La complejidad de un algoritmo genético depende de muchos factores porque ocurren muchas operaciones\n",
    "# dentro del algoritmo. Sin embargo, debería ser más eficiente que fuerza bruta por definición.\n",
    "# Por otro lado, luego de realizar pruebas, para empezar sí logro terminar de ejecutar el algoritmo y tener\n",
    "# una solución razonable, así que al menos en términos de tiempo de cómputo, es más eficiente.\n",
    "\n",
    "# A continuación mi implementación de un algoritmo genético para resolver el problema:\n",
    "\n",
    "import numpy as np\n",
    "import random\n",
    "\n",
    "def generar_individuo(tomas, dias):\n",
    "    # genera un individuo aleatorio\n",
    "    return [random.randint(1, dias) for _ in range(tomas)]\n",
    "\n",
    "def calcular_fitness(individuo, matriz, max_tomas_por_dia):\n",
    "    # calcula el fitness de un individuo usando la restriccion de max_tomas_por_dia\n",
    "    dias_usados = set(individuo)\n",
    "    fitness = 0\n",
    "    \n",
    "    # penalización por no cumplir restricciones\n",
    "    for dia in dias_usados:\n",
    "        tomas_en_dia = [i for i, x in enumerate(individuo) if x == dia]\n",
    "        if len(tomas_en_dia) > max_tomas_por_dia:\n",
    "            fitness -= 1  # penaliza por exceder el número de tomas por día\n",
    "            \n",
    "        # verifica actores en las tomas del mismo día\n",
    "        for i in range(len(tomas_en_dia)):\n",
    "            for j in range(i + 1, len(tomas_en_dia)):\n",
    "                if np.any(matriz[tomas_en_dia[i]] & matriz[tomas_en_dia[j]]):\n",
    "                    fitness += 1\n",
    "    return fitness\n",
    "\n",
    "def escoger_padres(poblacion, matriz, max_tomas_por_dia):\n",
    "    # escoge padres segun fitness\n",
    "    fitness = [calcular_fitness(ind, matriz, max_tomas_por_dia) for ind in poblacion]\n",
    "    return random.choices(poblacion, weights=fitness, k=2)\n",
    "\n",
    "def crossover(padre1, padre2, tasa_crossover, tomas):\n",
    "    # cruza 2 padres segun tasa\n",
    "    if random.random() < tasa_crossover:\n",
    "        punto_corte = random.randint(1, tomas - 1)\n",
    "        hijo = padre1[:punto_corte] + padre2[punto_corte:]\n",
    "        return hijo\n",
    "    return padre1\n",
    "\n",
    "def mutar(individuo, tasa_mutacion, tomas, dias):\n",
    "    # muta aleatoriamente un individuo segun tasa\n",
    "    if random.random() < tasa_mutacion:\n",
    "        indice = random.randint(0, tomas - 1)\n",
    "        individuo[indice] = random.randint(1, dias)\n",
    "    return individuo\n",
    "\n",
    "def algoritmo_genetico(matriz, max_tomas_por_dia):\n",
    "    \n",
    "    # hiperparametros\n",
    "    n_poblacion = 100\n",
    "    generaciones = 100\n",
    "    tasa_crossover = 0.8\n",
    "    tasa_mutacion = 0.1\n",
    "    \n",
    "    tomas, actores = matriz.shape\n",
    "    dias = 20  # estimación inicial\n",
    "\n",
    "    # crea la población\n",
    "    poblacion = [generar_individuo(tomas, dias) for _ in range(n_poblacion)]\n",
    "\n",
    "    # aplica los pasos del algoritmo\n",
    "    for generacion in range(generaciones):\n",
    "        nueva_poblacion = []\n",
    "        for _ in range(n_poblacion):\n",
    "            padre1, padre2 = escoger_padres(poblacion, matriz, max_tomas_por_dia)\n",
    "            hijo = crossover(padre1, padre2, tasa_crossover, tomas)\n",
    "            hijo = mutar(hijo, tasa_mutacion, tomas, dias)\n",
    "            nueva_poblacion.append(hijo)\n",
    "        poblacion = nueva_poblacion\n",
    "\n",
    "    # encuentra el mejor individuo al final\n",
    "    mejor_individuo = max(poblacion, key=lambda ind: calcular_fitness(ind, matriz, max_tomas_por_dia))\n",
    "    print(\"Mejor solución encontrada:\", mejor_individuo)\n",
    "    print(\"Fitness:\", calcular_fitness(mejor_individuo, matriz, max_tomas_por_dia))\n",
    "    print(\"Días:\", len(mejor_individuo))\n",
    "\n",
    "algoritmo_genetico(matriz, 6)"
   ]
  },
  {
   "cell_type": "markdown",
   "metadata": {
    "id": "eGDB4K6uk1iN"
   },
   "source": [
    "(*)Calcula la complejidad del algoritmo"
   ]
  },
  {
   "cell_type": "markdown",
   "metadata": {
    "id": "NhpTh_BPk1ms"
   },
   "source": [
    "Respuesta"
   ]
  },
  {
   "cell_type": "markdown",
   "metadata": {
    "id": "nREzhkStlCq8"
   },
   "source": [
    "El cálculo de la complejidad del algoritmo genético no es algo sencillo de calcular porque tiene distintas etapas, y dependerá de la implementación de cada una de estas etapas y la relación entre las variables.\n",
    "\n",
    "Lo que sabemos es que la complejidad estará en función al tamaño de la población inicial, al número de generaciones, y en este caso, al número de tomas. Adicionalmente, a cada individuo le realizamos una evaluación de fitness, lo seleccionamos, cruzamos y mutamos.\n",
    "\n",
    "La evaluación del fitness estará en función al número de tomas, ya que necesitamos revisar cada asignación de toma a día en ese individuo. La selección, en base a la población inicial, porque calculamos las probabilidades de selección de los individuos de la población. El crossover requiere copiar hasta el número de tomas para crear un nuevo individuo, y la mutación es la operación más sencilla porque en esta implementación implica cambiar un elemento de la secuencia por individuo.\n",
    "\n",
    "De esta forma, podemos calcular la complejidad total como una función de la población inicial, el número de generaciones y el número de tomas. En mi implementación, se aproxima a un O(G*P*(T+P+T+1)) = O(G*P*(2T+P) lo cual puede aproximarse a O(G*P*T)."
   ]
  },
  {
   "cell_type": "markdown",
   "metadata": {
    "id": "3M6QjTsSkmYe"
   },
   "source": [
    "Según el problema (y tenga sentido), diseña un juego de datos de entrada aleatorios"
   ]
  },
  {
   "cell_type": "markdown",
   "metadata": {
    "id": "Jc3_OlyNkvjZ"
   },
   "source": [
    "Respuesta"
   ]
  },
  {
   "cell_type": "code",
   "execution_count": 34,
   "metadata": {
    "id": "sJ-N2etjkyWc"
   },
   "outputs": [
    {
     "data": {
      "text/plain": [
       "array([[1, 1, 0, 1, 0, 1, 1, 0, 1, 0],\n",
       "       [0, 0, 0, 1, 0, 0, 0, 0, 0, 1],\n",
       "       [0, 1, 1, 0, 0, 0, 1, 0, 1, 0],\n",
       "       [0, 1, 1, 1, 1, 0, 0, 1, 1, 1],\n",
       "       [0, 0, 0, 0, 1, 1, 0, 1, 1, 0],\n",
       "       [1, 0, 0, 0, 0, 1, 0, 0, 1, 1],\n",
       "       [0, 1, 0, 0, 0, 1, 1, 0, 0, 0],\n",
       "       [1, 0, 0, 0, 1, 0, 0, 1, 0, 0],\n",
       "       [0, 0, 0, 0, 0, 0, 1, 0, 0, 1],\n",
       "       [0, 0, 1, 0, 0, 0, 1, 1, 0, 0],\n",
       "       [0, 0, 0, 0, 0, 0, 0, 0, 1, 1],\n",
       "       [0, 0, 0, 0, 1, 1, 0, 1, 0, 1],\n",
       "       [0, 0, 0, 0, 0, 0, 0, 1, 1, 0],\n",
       "       [0, 0, 0, 0, 0, 0, 0, 0, 0, 1],\n",
       "       [0, 0, 0, 0, 1, 1, 0, 1, 0, 0],\n",
       "       [0, 0, 0, 1, 1, 0, 0, 0, 0, 0],\n",
       "       [0, 0, 1, 0, 0, 1, 0, 0, 0, 1],\n",
       "       [0, 0, 0, 0, 0, 0, 0, 0, 0, 0],\n",
       "       [0, 0, 0, 1, 0, 0, 0, 1, 0, 0],\n",
       "       [0, 0, 1, 0, 0, 0, 1, 0, 0, 0],\n",
       "       [0, 1, 0, 0, 1, 1, 0, 0, 1, 0],\n",
       "       [1, 0, 0, 0, 1, 0, 0, 0, 1, 1],\n",
       "       [1, 1, 1, 0, 0, 1, 0, 0, 1, 0],\n",
       "       [1, 0, 0, 0, 1, 0, 1, 1, 1, 0],\n",
       "       [0, 0, 0, 1, 0, 0, 1, 1, 0, 0],\n",
       "       [1, 0, 0, 0, 0, 0, 0, 0, 0, 0],\n",
       "       [0, 0, 0, 1, 1, 1, 1, 0, 1, 0],\n",
       "       [0, 1, 0, 0, 0, 1, 0, 0, 0, 1],\n",
       "       [0, 0, 1, 0, 0, 0, 0, 0, 0, 1],\n",
       "       [1, 0, 0, 1, 0, 0, 0, 0, 0, 1]])"
      ]
     },
     "execution_count": 34,
     "metadata": {},
     "output_type": "execute_result"
    }
   ],
   "source": [
    "# creo una matriz de 30x10\n",
    "matriz_random = np.zeros((30,10), int)\n",
    "\n",
    "# creo 94 1s, al igual que en los datos originales\n",
    "choices = np.random.choice(matriz_random.size, 94, replace=False)\n",
    "matriz_random.ravel()[choices] = 1\n",
    "matriz_random"
   ]
  },
  {
   "cell_type": "markdown",
   "metadata": {
    "id": "zy5ZROmjlGo1"
   },
   "source": [
    "Aplica el algoritmo al juego de datos generado"
   ]
  },
  {
   "cell_type": "markdown",
   "metadata": {
    "id": "_Cmj-PVylMsa"
   },
   "source": [
    "Respuesta"
   ]
  },
  {
   "cell_type": "code",
   "execution_count": 36,
   "metadata": {},
   "outputs": [
    {
     "name": "stdout",
     "output_type": "stream",
     "text": [
      "Mejor solución encontrada: [20, 20, 20, 20, 13, 20, 20, 9, 9, 20, 20, 20, 20, 20, 20, 17, 9, 7, 20, 20, 7, 16, 20, 3, 17, 20, 20, 17, 20, 20]\n",
      "Fitness: 164\n",
      "Días: 30\n"
     ]
    }
   ],
   "source": [
    "# aplico el algoritmo\n",
    "algoritmo_genetico(matriz, 6)"
   ]
  },
  {
   "cell_type": "markdown",
   "metadata": {
    "id": "eTFWUJQrtGcv"
   },
   "source": [
    "Enumera las referencias que has utilizado(si ha sido necesario) para llevar a cabo el trabajo"
   ]
  },
  {
   "cell_type": "markdown",
   "metadata": {
    "id": "YKQ_mRBttWsP"
   },
   "source": [
    "Respuesta"
   ]
  },
  {
   "cell_type": "markdown",
   "metadata": {
    "id": "Jkx8GeiYlUz1"
   },
   "source": [
    "1. https://numpy.org/doc/1.26/reference/generated/numpy.zeros.html#numpy.zeros\n",
    "2. https://numpy.org/doc/1.26/reference/random/index.html#module-numpy.random\n",
    "3. https://docs.python.org/3/library/random.html\n",
    "4. https://docs.python.org/3/library/itertools.html\n",
    "5. https://pandas.pydata.org/docs/reference/api/pandas.Series.to_numpy.html\n",
    "6. https://machinelearningmastery.com/simple-genetic-algorithm-from-scratch-in-python/\n",
    "7. https://towardsdatascience.com/genetic-algorithm-implementation-in-python-5ab67bb124a6?gi=680aad3684e9\n",
    "8. https://www.geeksforgeeks.org/brute-force-approach-and-its-pros-and-cons/\n",
    "9. https://arxiv.org/pdf/1811.04465.pdf"
   ]
  },
  {
   "cell_type": "markdown",
   "metadata": {
    "id": "kAkDPUyRtYyH"
   },
   "source": [
    "Describe brevemente las lineas de como crees que es posible avanzar en el estudio del problema. Ten en cuenta incluso posibles variaciones del problema y/o variaciones al alza del tamaño"
   ]
  },
  {
   "cell_type": "markdown",
   "metadata": {
    "id": "IE0uZmo-tZu-"
   },
   "source": [
    "Respuesta"
   ]
  },
  {
   "cell_type": "markdown",
   "metadata": {},
   "source": [
    "Creo que, para empezar, es un problema generalizable a otros problemas similares, pensando principalmente por mi experiencia en enrutamiento de vehículos o programación de horarios de personal. En naturaleza es un problema de asignación y evitación de cruces que se repite con frecuencia y amerita seguir siendo estudiado.\n",
    "\n",
    "En la vida real, existen muchas más restricciones que pueden hacer que el problema sea más complejo como por ejemplo tiempos máximos por sesión, (en el caso de los desplazamientos, relacionandolos al entorno logístico, puede haber un costo de transporte variable), limitaciones de disponibilidad de actores en algunos días, etc.\n",
    "\n",
    "A medida que crece el problema también es interesante explorar como los algoritmos se comportan a medida que el número de actores, tomas o días aumenta, y puede obligarnos a utilizar otros algoritmos como pueden ser búsqueda tabú, simulated annealing, o un modelo mixto que utilice varios de estos. En un problema similar en mi experiencia laboral, escogimos CPLEX."
   ]
  }
 ],
 "metadata": {
  "colab": {
   "provenance": []
  },
  "kernelspec": {
   "display_name": "Python 3 (ipykernel)",
   "language": "python",
   "name": "python3"
  },
  "language_info": {
   "codemirror_mode": {
    "name": "ipython",
    "version": 3
   },
   "file_extension": ".py",
   "mimetype": "text/x-python",
   "name": "python",
   "nbconvert_exporter": "python",
   "pygments_lexer": "ipython3",
   "version": "3.11.5"
  }
 },
 "nbformat": 4,
 "nbformat_minor": 4
}
